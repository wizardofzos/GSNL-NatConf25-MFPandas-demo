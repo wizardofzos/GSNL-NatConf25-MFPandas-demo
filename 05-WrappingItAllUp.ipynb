{
 "cells": [
  {
   "cell_type": "code",
   "execution_count": null,
   "id": "87b9eb24-2dce-4960-a79c-881dae2b985a",
   "metadata": {},
   "outputs": [],
   "source": [
    "# Import our stuff\n",
    "from mfpandas import IRRDBU00,DCOLLECT,SETROPTS\n",
    "# Load them up\n",
    "racfdb = IRRDBU00(irrdbu00='test_irrdbu00_data')\n",
    "racfdb.parse_fancycli()\n",
    "dcol   = DCOLLECT(dcollect='test_dcollect_data')\n",
    "dcol.parse_fancycli()\n",
    "setropts = SETROPTS(setropts='test_setropts_data')"
   ]
  },
  {
   "cell_type": "code",
   "execution_count": null,
   "id": "f9c8681e-a1a2-499a-b77c-8673b1604f5b",
   "metadata": {},
   "outputs": [],
   "source": [
    "# lets prepare for finding findings ;)\n",
    "findings = []\n",
    "def addFind(severity=None, desc=None):\n",
    "    nr = str(len(findings)+1)\n",
    "    findings.append([str(nr), severity, desc])\n",
    "\n"
   ]
  },
  {
   "cell_type": "code",
   "execution_count": null,
   "id": "76dbdb40-0271-4926-8382-49fb49a865f0",
   "metadata": {},
   "outputs": [],
   "source": [
    "# Are there any 'UACC read datasets'?\n",
    "uaccread = racfdb.datasets.loc[racfdb.datasets.DSBD_UACC=='READ']['DSBD_NAME'].values\n",
    "for f in uaccread:\n",
    "    addFind(severity=\"Medium\", desc=f'{f} has universal access of READ')\n",
    "findings"
   ]
  },
  {
   "cell_type": "code",
   "execution_count": null,
   "id": "ed1566aa-8395-4187-8fa3-6ce59145a0eb",
   "metadata": {},
   "outputs": [],
   "source": [
    "# access to BPX.SUPERUSER?\n",
    "who = racfdb.generalAccess.loc[racfdb.generalAccess.GRACC_NAME=='BPX.SUPERUSER'][['GRACC_AUTH_ID','GRACC_ACCESS']]\n",
    "for w in who.values:\n",
    "    addFind('HIGH',f'{w[0]} has {w[1]} on BPX.SUPERUSER')"
   ]
  },
  {
   "cell_type": "code",
   "execution_count": null,
   "id": "9f938d0f-f9da-42dc-9685-568de62ce0ed",
   "metadata": {},
   "outputs": [],
   "source": [
    "setropts.fieldInfo.values\n",
    "revokedAfter = setropts.fieldInfo.loc[setropts.fieldInfo.Setting=='REVOKE']['Value'].values[0]\n",
    "if revokedAfter == 'FALSE':\n",
    "    addFind('High', 'UserIDs are not being revoked after invalid password')"
   ]
  },
  {
   "cell_type": "code",
   "execution_count": null,
   "id": "01577930-8176-4d91-901f-0298e37e97b8",
   "metadata": {},
   "outputs": [],
   "source": [
    "# Prep reporting\n",
    "from reportlab.lib.pagesizes import A4\n",
    "from reportlab.lib import colors\n",
    "from reportlab.platypus import SimpleDocTemplate, Paragraph, Spacer, Table, TableStyle, Image, PageBreak\n",
    "from reportlab.lib.styles import getSampleStyleSheet\n",
    "from datetime import datetime\n",
    "import matplotlib.pyplot as plt\n",
    "import os\n",
    "\n",
    "\n",
    "\n",
    "# Count findings per severity\n",
    "severity_counts = {}\n",
    "for _, severity, _ in findings:\n",
    "    severity_counts[severity] = severity_counts.get(severity, 0) + 1\n",
    "\n",
    "# Generate bar chart\n",
    "def create_barchart(filename):\n",
    "    severities = list(severity_counts.keys())\n",
    "    counts = [severity_counts[s] for s in severities]\n",
    "\n",
    "    plt.figure(figsize=(6, 4))\n",
    "    plt.bar(severities, counts, color='skyblue')\n",
    "    plt.title('Findings per Severity')\n",
    "    plt.xlabel('Severity')\n",
    "    plt.ylabel('Count')\n",
    "    plt.tight_layout()\n",
    "    plt.savefig(filename)\n",
    "    plt.close()\n",
    "\n",
    "# Create PDF\n",
    "def create_pdf(output_filename):\n",
    "    doc = SimpleDocTemplate(output_filename, pagesize=A4)\n",
    "    styles = getSampleStyleSheet()\n",
    "    story = []\n",
    "\n",
    "    # --- Front Page ---\n",
    "    story.append(Spacer(1, 200))\n",
    "    story.append(Paragraph(\"<font size=24><b>Example Security Audit Report</b></font>\", styles[\"Title\"]))\n",
    "    story.append(Spacer(1, 50))\n",
    "    story.append(Paragraph(\"Author: GSNL Session\", styles[\"Title\"]))\n",
    "    story.append(Paragraph(\"Date: \" + datetime.today().strftime('%B %d, %Y'), styles[\"Title\"]))\n",
    "    story.append(PageBreak())\n",
    "\n",
    "    # --- Table Page ---\n",
    "    table_data = [['#', 'Severity', 'Description']] + findings\n",
    "    table = Table(table_data, colWidths=[40, 130, 380])\n",
    "    table.setStyle(TableStyle([\n",
    "        ('BACKGROUND', (0, 0), (-1, 0), colors.darkblue),\n",
    "        ('TEXTCOLOR', (0, 0), (-1, 0), colors.whitesmoke),\n",
    "        ('GRID', (0, 0), (-1, -1), 1, colors.black),\n",
    "        ('FONTNAME', (0, 0), (-1, 0), 'Helvetica-Bold'),\n",
    "        ('ALIGN', (0, 0), (-1, -1), 'LEFT'),\n",
    "        ('VALIGN', (0, 0), (-1, -1), 'TOP'),\n",
    "    ]))\n",
    "    story.append(Paragraph(\"<b>Audit Findings</b>\", styles[\"Heading2\"]))\n",
    "    story.append(Spacer(1, 12))\n",
    "    story.append(table)\n",
    "    story.append(PageBreak())\n",
    "\n",
    "    # --- Chart Page ---\n",
    "    chart_file = \"barchart.png\"\n",
    "    create_barchart(chart_file)\n",
    "    story.append(Paragraph(\"<b>Findings Summary</b>\", styles[\"Heading2\"]))\n",
    "    story.append(Spacer(1, 12))\n",
    "    story.append(Image(chart_file, width=400, height=300))\n",
    "    \n",
    "    doc.build(story)\n",
    "\n",
    "    # Clean up image\n",
    "    if os.path.exists(chart_file):\n",
    "        os.remove(chart_file)\n",
    "\n",
    "# Run the function\n",
    "os.remove(\"audit_report.pdf\")\n",
    "create_pdf(\"audit_report.pdf\")\n",
    "print('Done')"
   ]
  },
  {
   "cell_type": "code",
   "execution_count": null,
   "id": "e34f862f-7917-42d8-8ad7-f0135502b7cc",
   "metadata": {},
   "outputs": [],
   "source": []
  }
 ],
 "metadata": {
  "kernelspec": {
   "display_name": "Python 3 (ipykernel)",
   "language": "python",
   "name": "python3"
  },
  "language_info": {
   "codemirror_mode": {
    "name": "ipython",
    "version": 3
   },
   "file_extension": ".py",
   "mimetype": "text/x-python",
   "name": "python",
   "nbconvert_exporter": "python",
   "pygments_lexer": "ipython3",
   "version": "3.9.6"
  }
 },
 "nbformat": 4,
 "nbformat_minor": 5
}
