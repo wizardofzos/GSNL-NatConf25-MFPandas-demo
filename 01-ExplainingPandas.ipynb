{
 "cells": [
  {
   "cell_type": "code",
   "execution_count": null,
   "id": "a4999da0-aa12-432f-8d89-c69615117c52",
   "metadata": {},
   "outputs": [],
   "source": [
    "# We need to import the pandas framework\n",
    "import pandas as pd\n",
    "print(\"Imported the pandas framework\")\n"
   ]
  },
  {
   "cell_type": "code",
   "execution_count": null,
   "id": "e3d6cd4d-49de-49aa-96ee-7203c03addfc",
   "metadata": {},
   "outputs": [],
   "source": [
    "# let's create a dataframe to represent something that makes sense to all of us...\n",
    "dict = {\n",
    "    'Dataset': ['SYS1.PARMLIB', 'SYS1.RACFDS', 'FEK.V03R01.AUTHLIB'],\n",
    "    'Volume': ['SARES1', 'SARES1', 'C3RES2']\n",
    "}\n",
    "datasets = pd.DataFrame.from_dict(dict)\n",
    "\n",
    "# Show the dataframe\n",
    "datasets"
   ]
  },
  {
   "cell_type": "code",
   "execution_count": null,
   "id": "8b4dca37-46e3-4ebb-90db-584343e490fb",
   "metadata": {},
   "outputs": [],
   "source": [
    "# So, what datasets are on volume 'SARES1'\n",
    "datasets.loc[datasets.Volume=='SARES1']"
   ]
  },
  {
   "cell_type": "code",
   "execution_count": null,
   "id": "dd8886ec-8181-42a9-a93c-21bb20078ef6",
   "metadata": {},
   "outputs": [],
   "source": [
    "# Let's get a more 'real' DataFrame....\n",
    "url = \"https://www.ibm.com/support/pages/red-alerts-subscription-service-zseries-0\""
   ]
  },
  {
   "cell_type": "code",
   "execution_count": null,
   "id": "b80e9722-9863-4a2f-82f8-1393c3aac9e4",
   "metadata": {},
   "outputs": [],
   "source": [
    "# Parse all html-tables from that page\n",
    "import requests\n",
    "r = requests.get(url)\n",
    "tables = pd.read_html(StringIO(str(r.text)), header=0)"
   ]
  },
  {
   "cell_type": "code",
   "execution_count": null,
   "id": "50f8c256-4e80-4934-b778-8b0d017e2d2e",
   "metadata": {},
   "outputs": [],
   "source": [
    "# Let's look at that first table\n",
    "redalerts = tables[0]\n",
    "redalerts"
   ]
  },
  {
   "cell_type": "code",
   "execution_count": null,
   "id": "a73db147-f83e-4fac-bde6-a186b3a62dec",
   "metadata": {},
   "outputs": [],
   "source": [
    "# Let's see if there's a RedAlert regarding DB2\n",
    "db2 = redalerts.loc[redalerts.Description.str.contains('DB2')]\n",
    "print('==== DB2 RedAlerts ====')\n",
    "for db2redalert in db2.values:\n",
    "    print(f\"* {db2redalert[1]} ({db2redalert[0]})\")\n",
    "    print('')"
   ]
  },
  {
   "cell_type": "code",
   "execution_count": null,
   "id": "cd908ed5-3e78-4919-9f83-0a681216db05",
   "metadata": {},
   "outputs": [],
   "source": []
  }
 ],
 "metadata": {
  "kernelspec": {
   "display_name": "Python 3 (ipykernel)",
   "language": "python",
   "name": "python3"
  },
  "language_info": {
   "codemirror_mode": {
    "name": "ipython",
    "version": 3
   },
   "file_extension": ".py",
   "mimetype": "text/x-python",
   "name": "python",
   "nbconvert_exporter": "python",
   "pygments_lexer": "ipython3",
   "version": "3.9.6"
  }
 },
 "nbformat": 4,
 "nbformat_minor": 5
}
